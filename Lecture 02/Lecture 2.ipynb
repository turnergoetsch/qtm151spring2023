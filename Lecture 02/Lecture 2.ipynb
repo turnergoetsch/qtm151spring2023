{
 "cells": [
  {
   "attachments": {},
   "cell_type": "markdown",
   "metadata": {},
   "source": [
    "# <span style=\"color:darkblue\"> Lecture 2: Variables and Lists </span>"
   ]
  },
  {
   "attachments": {},
   "cell_type": "markdown",
   "metadata": {},
   "source": [
    "<font size=\"5\"> \n",
    "\n",
    "In the previous class we:\n",
    "- Reviewed the basic structure of Jupyter notebooks\n",
    "- Showed how to install and import libraries"
   ]
  },
  {
   "attachments": {},
   "cell_type": "markdown",
   "metadata": {},
   "source": [
    "<font size=\"5\"> \n",
    "\n",
    "In this class we will:\n",
    "\n",
    "- Introduce variables and lists\n",
    "- Compute a histogram plot\n",
    "- (Optional) Common pitfalls and understanding errors"
   ]
  },
  {
   "attachments": {},
   "cell_type": "markdown",
   "metadata": {},
   "source": [
    "# <span style=\"color:darkblue\"> Import Libraries </span>"
   ]
  },
  {
   "cell_type": "code",
<<<<<<< Updated upstream
   "execution_count": 21,
=======
   "execution_count": 12,
>>>>>>> Stashed changes
   "metadata": {},
   "outputs": [],
   "source": [
    "# The matplotlib library is used to create graphs\n",
    "\n",
    "import matplotlib.pyplot as plt"
   ]
  },
  {
   "attachments": {},
   "cell_type": "markdown",
   "metadata": {},
   "source": [
    "## "
   ]
  },
  {
   "attachments": {},
   "cell_type": "markdown",
   "metadata": {},
   "source": [
    "# <span style=\"color:darkblue\"> Variables and Data Types </span>"
   ]
  },
  {
   "attachments": {},
   "cell_type": "markdown",
   "metadata": {},
   "source": [
    "<font size=\"5\"> \n",
    "\n",
    "Identify the type of object\n",
    "- Integers, Floats (numbers with decimals) or strings (text)\n",
    "- Type is a function, with an argument in parenthesis (...)"
   ]
  },
  {
   "cell_type": "code",
   "execution_count": 22,
   "metadata": {},
   "outputs": [
    {
     "data": {
      "text/plain": [
       "int"
      ]
     },
     "execution_count": 22,
     "metadata": {},
     "output_type": "execute_result"
    }
   ],
   "source": [
    "type(3)"
   ]
  },
  {
   "cell_type": "code",
   "execution_count": 23,
   "metadata": {},
   "outputs": [
    {
     "data": {
      "text/plain": [
       "float"
      ]
     },
     "execution_count": 23,
     "metadata": {},
     "output_type": "execute_result"
    }
   ],
   "source": [
    "type(3.5)"
   ]
  },
  {
   "cell_type": "code",
   "execution_count": 24,
   "metadata": {},
   "outputs": [
    {
     "data": {
      "text/plain": [
       "str"
      ]
     },
     "execution_count": 24,
     "metadata": {},
     "output_type": "execute_result"
    }
   ],
   "source": [
    "type('hello')"
   ]
  },
  {
   "cell_type": "code",
   "execution_count": 25,
   "metadata": {},
   "outputs": [
    {
     "data": {
      "text/plain": [
       "str"
      ]
     },
     "execution_count": 25,
     "metadata": {},
     "output_type": "execute_result"
    }
   ],
   "source": [
    "# You can define strings with either single or double quotations.\n",
    "type(\"hello\")"
   ]
  },
  {
   "attachments": {},
   "cell_type": "markdown",
   "metadata": {},
   "source": [
    "<font size=\"5\"> \n",
    "\n",
    "Store Variables in memory\n",
    "\n",
    "- Assign variables with \"=\"\n",
    "- Write meaningful names, without spaces\n",
    "- Can use underscore \"_\"\n",
    "- Click \"Variables\" in the top panel of Jupyter Notebooks"
   ]
  },
  {
   "cell_type": "code",
   "execution_count": 26,
   "metadata": {},
   "outputs": [],
   "source": [
    "# Try choosing your names on the left of \"=\"\n",
    "\n",
    "number3        = 3\n",
    "number3andhalf = 3.5\n",
    "message_hello  = \"hello\""
   ]
  },
  {
   "cell_type": "code",
<<<<<<< Updated upstream
   "execution_count": 27,
=======
   "execution_count": 3,
>>>>>>> Stashed changes
   "metadata": {},
   "outputs": [
    {
     "data": {
      "text/plain": [
       "3"
      ]
     },
<<<<<<< Updated upstream
     "execution_count": 27,
=======
     "execution_count": 3,
>>>>>>> Stashed changes
     "metadata": {},
     "output_type": "execute_result"
    }
   ],
   "source": [
    "# You can show the output by writing the name of the variable\n",
    "# Try including different variables\n",
    "\n",
    "number3"
   ]
  },
  {
   "cell_type": "code",
<<<<<<< Updated upstream
   "execution_count": 28,
=======
   "execution_count": 4,
>>>>>>> Stashed changes
   "metadata": {},
   "outputs": [
    {
     "name": "stdout",
     "output_type": "stream",
     "text": [
      "3\n",
      "3.5\n"
     ]
    }
   ],
   "source": [
    "# Jupyter only shows the output for the last object\n",
    "# You can show multiple outputs by using the function \"print\"\n",
    "\n",
    "print(number3)\n",
    "print(number3andhalf)"
   ]
  },
  {
   "attachments": {},
   "cell_type": "markdown",
   "metadata": {},
   "source": [
    "<font size=\"5\"> \n",
    "\n",
    "Basic operations on integers and floats\n",
    "\n",
    "- Addition (+), Multiplication (*), Subtraction (-), Division (/), Exponentiation (**)\n",
    "- If you try this on a string it will not work"
   ]
  },
  {
   "cell_type": "code",
   "execution_count": 29,
   "metadata": {},
   "outputs": [
    {
     "name": "stdout",
     "output_type": "stream",
     "text": [
      "6\n",
      "5\n",
      "1\n",
      "1.5\n",
      "9\n"
     ]
    }
   ],
   "source": [
    "# Basic operations on numbers\n",
    "print(3*2)\n",
    "print(3+2)\n",
    "print(3-2)\n",
    "print(3/2)\n",
    "print(3**2)"
   ]
  },
  {
   "attachments": {},
   "cell_type": "markdown",
   "metadata": {},
   "source": [
    "<font size=\"5\"> \n",
    "\n",
    "Use parenthesis for composite operations"
   ]
  },
  {
   "cell_type": "code",
   "execution_count": 30,
   "metadata": {},
   "outputs": [
    {
     "data": {
      "text/plain": [
       "1.4"
      ]
     },
     "execution_count": 30,
     "metadata": {},
     "output_type": "execute_result"
    }
   ],
   "source": [
    "(3 + 4) / 5"
   ]
  },
  {
   "cell_type": "code",
<<<<<<< Updated upstream
   "execution_count": 31,
=======
   "execution_count": 8,
>>>>>>> Stashed changes
   "metadata": {},
   "outputs": [
    {
     "name": "stdout",
     "output_type": "stream",
     "text": [
      "6\n",
      "12.25\n",
      "1.4\n"
     ]
    }
   ],
   "source": [
    "# Try doing the same with the variable \"number3\" or \"number3andhalf instead.\n",
    "print(number3 * 2)\n",
    "print(number3andhalf ** 2)\n",
    "print((number3 + 4)/5)\n"
   ]
  },
  {
   "cell_type": "code",
   "execution_count": null,
   "metadata": {},
   "outputs": [],
   "source": []
  },
  {
   "attachments": {},
   "cell_type": "markdown",
   "metadata": {},
   "source": [
    "<font size=\"5\"> \n",
    "\n",
    "Concatenate \"add\" two strings"
   ]
  },
  {
   "cell_type": "code",
   "execution_count": 32,
   "metadata": {},
   "outputs": [
    {
     "data": {
      "text/plain": [
       "'My name is David'"
      ]
     },
     "execution_count": 32,
     "metadata": {},
     "output_type": "execute_result"
    }
   ],
   "source": [
    "# Use the + symbol to concatenate two or more strings\n",
    "# This is very useful to contract strings where one part stays the same,\n",
    "# and the other is a user input.\n",
    "\n",
    "name = \"David\"\n",
    "\n",
    "\"My name is \"  + name"
   ]
  },
  {
   "attachments": {},
   "cell_type": "markdown",
   "metadata": {},
   "source": [
    "# <span style=\"color:darkblue\"> Lists </span>"
   ]
  },
  {
   "attachments": {},
   "cell_type": "markdown",
   "metadata": {},
   "source": [
    "<font size=\"5\"> \n",
    "\n",
    "Store Lists\n",
    "\n",
    "- Lists are always denote by square brackets [...]\n",
    "- Elements separated by commas"
   ]
  },
  {
   "cell_type": "code",
<<<<<<< Updated upstream
   "execution_count": 33,
=======
   "execution_count": 9,
>>>>>>> Stashed changes
   "metadata": {},
   "outputs": [],
   "source": [
    "# List of numbers\n",
    "# Example: Suppose you ask 5 people about their favorite color. The results:\n",
    "# Round parenthesees are used with functions\n",
    "# Square brackets are used for subsetting and selecting elements\n",
    "list_numbers     = [1,2,3,4,5]\n",
    "list_numbers_sqr = [1,4,9,16,25]"
   ]
  },
  {
   "cell_type": "code",
<<<<<<< Updated upstream
   "execution_count": 34,
=======
   "execution_count": 14,
>>>>>>> Stashed changes
   "metadata": {},
   "outputs": [],
   "source": [
    "# List with strings\n",
    "# Example: Suppose you ask 5 people about their favorite color. The results:\n",
    "list_colors = [\"red\",\"yellow\",\"yellow\", \"green\",\"red\"]"
   ]
  },
  {
   "cell_type": "code",
   "execution_count": 35,
   "metadata": {},
   "outputs": [],
   "source": [
    "# List with mixed types\n",
    "list_mixedtype = [\"red\",1,\"yellow\",4,5]"
   ]
  },
  {
   "attachments": {},
   "cell_type": "markdown",
   "metadata": {},
   "source": [
    "<font size=\"5\">\n",
    "\n",
    "Extract individual elements from a list\n",
    "\n",
    "- Use square brackets, e.g. list_colors[2]\n",
    "- Python lists always start at the **ZERO** position\n",
    "\n",
    "\n",
    "<img src=\"figures/house_diagram.png\" alt=\"drawing\" width=\"650\"/>"
   ]
  },
  {
   "cell_type": "code",
   "execution_count": 36,
   "metadata": {},
   "outputs": [
    {
     "data": {
      "text/plain": [
       "'ground'"
      ]
     },
     "execution_count": 36,
     "metadata": {},
     "output_type": "execute_result"
    }
   ],
   "source": [
    "floors_england = [\"ground\", \"floor1\", \"floor2\" ]\n",
    "\n",
    "floors_england[0]"
   ]
  },
  {
   "cell_type": "code",
   "execution_count": 37,
   "metadata": {},
   "outputs": [
    {
     "name": "stdout",
     "output_type": "stream",
     "text": [
      "red\n",
      "yellow\n",
      "yellow\n",
      "green\n",
      "red\n"
     ]
    }
   ],
   "source": [
    "# Use print to show the output of multiple commands\n",
    "print(list_colors[0])\n",
    "print(list_colors[1])\n",
    "print(list_colors[2])\n",
    "print(list_colors[3])\n",
    "print(list_colors[4])"
   ]
  },
  {
   "cell_type": "code",
<<<<<<< Updated upstream
   "execution_count": 38,
   "metadata": {},
   "outputs": [],
   "source": [
    "# Try creating a list with four elements, and then selecting the third entry\n",
    "\n"
=======
   "execution_count": 10,
   "metadata": {},
   "outputs": [],
   "source": [
    "# Create your own list\n",
    "\n",
    "list_Celtics = [\"Tatum\", \"Brown\", \"Smart\", \"Horford\", \"Williams\"]"
>>>>>>> Stashed changes
   ]
  },
  {
   "attachments": {},
   "cell_type": "markdown",
   "metadata": {},
   "source": [
    "# <span style=\"color:darkblue\"> Visualizing Lists </span>"
   ]
  },
  {
   "attachments": {},
   "cell_type": "markdown",
   "metadata": {},
   "source": [
    "<font size=\"5\"> \n",
    "\n",
    "A histogram for categorical data"
   ]
  },
  {
   "cell_type": "code",
<<<<<<< Updated upstream
   "execution_count": 39,
=======
   "execution_count": 15,
>>>>>>> Stashed changes
   "metadata": {},
   "outputs": [
    {
     "data": {
      "text/plain": [
       "(array([2., 0., 0., 0., 0., 2., 0., 0., 0., 1.]),\n",
       " array([0. , 0.2, 0.4, 0.6, 0.8, 1. , 1.2, 1.4, 1.6, 1.8, 2. ]),\n",
       " <BarContainer object of 10 artists>)"
      ]
     },
<<<<<<< Updated upstream
     "execution_count": 39,
=======
     "execution_count": 15,
>>>>>>> Stashed changes
     "metadata": {},
     "output_type": "execute_result"
    },
    {
     "data": {
<<<<<<< Updated upstream
      "image/png": "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",
=======
      "image/png": "iVBORw0KGgoAAAANSUhEUgAAAiMAAAGdCAYAAADAAnMpAAAAOXRFWHRTb2Z0d2FyZQBNYXRwbG90bGliIHZlcnNpb24zLjYuMywgaHR0cHM6Ly9tYXRwbG90bGliLm9yZy/P9b71AAAACXBIWXMAAA9hAAAPYQGoP6dpAAAgN0lEQVR4nO3df1BVdf7H8dfVFDR+mLkCIv4oyx+piOYPdBUqEl3XkdnGddw2zNC2VjZdzN1oWh1zW2yMtJ01zW2NtXI015RGTWM1/EmZCpqWmmWCBlibcZHq6sL5/tF3b3tXMS6Cb8HnY+bMdM/9fO75nMbrfXo4gMtxHEcAAABGmlgvAAAAXNuIEQAAYIoYAQAApogRAABgihgBAACmiBEAAGCKGAEAAKaIEQAAYOo66wXURFVVlT777DMFBwfL5XJZLwcAANSA4zgqLy9Xu3bt1KRJ9dc/GkSMfPbZZ4qKirJeBgAAqIWioiK1b9++2ucbRIwEBwdL+u5kQkJCjFcDAABqwu12Kyoqyvs5Xp0GESP/+dJMSEgIMQIAQAPzQ7dYcAMrAAAwRYwAAABTxAgAADBFjAAAAFPECAAAMEWMAAAAU8QIAAAwRYwAAABTxAgAADBFjAAAAFN+xciiRYvUu3dv749lj42N1ZtvvnnJOatWrVK3bt0UGBioXr16acOGDZe1YAAA0Lj4FSPt27fX3LlztXfvXu3Zs0d33nmnxowZo0OHDl10/K5duzR+/HilpKQoPz9fSUlJSkpK0sGDB+tk8QAAoOFzOY7jXM4LtG7dWvPmzVNKSsoFz40bN04VFRVat26dd9+gQYPUp08fLV68uMbHcLvdCg0NVVlZGb8oDwCABqKmn9+1vmeksrJSK1asUEVFhWJjYy86Ji8vTwkJCT77EhMTlZeXd8nX9ng8crvdPhsAAGicrvN3wvvvv6/Y2Fh9++23CgoK0po1a9SjR4+Lji0pKVFYWJjPvrCwMJWUlFzyGBkZGZo9e7a/S6uVTo+tvyLHqUufzh1lvQQAAOqM31dGunbtqoKCAr377rt6+OGHNWHCBH3wwQd1uqj09HSVlZV5t6Kiojp9fQAAcPXw+8pI8+bN1aVLF0lSv3799N577+m5557TCy+8cMHY8PBwlZaW+uwrLS1VeHj4JY8REBCggIAAf5cGAAAaoMv+OSNVVVXyeDwXfS42NlabN2/22ZeTk1PtPSYAAODa49eVkfT0dI0cOVIdOnRQeXm5li9frtzcXG3atEmSlJycrMjISGVkZEiSpk6dqri4OGVmZmrUqFFasWKF9uzZoyVLltT9mQAAgAbJrxg5ffq0kpOTVVxcrNDQUPXu3VubNm3S3XffLUkqLCxUkybfX2wZPHiwli9frieeeEKPP/64brnlFq1du1Y9e/as27MAAAAN1mX/nJEroT5/zgjfTQMAQP2o958zAgAAUBeIEQAAYIoYAQAApogRAABgihgBAACmiBEAAGCKGAEAAKaIEQAAYIoYAQAApogRAABgihgBAACmiBEAAGCKGAEAAKaIEQAAYIoYAQAApogRAABgihgBAACmiBEAAGCKGAEAAKaIEQAAYIoYAQAApogRAABgihgBAACmiBEAAGCKGAEAAKaIEQAAYIoYAQAApogRAABgihgBAACmiBEAAGCKGAEAAKaIEQAAYIoYAQAApogRAABgihgBAACmiBEAAGCKGAEAAKaIEQAAYIoYAQAApogRAABgihgBAACmiBEAAGCKGAEAAKaIEQAAYIoYAQAApogRAABgihgBAACmiBEAAGDKrxjJyMhQ//79FRwcrLZt2yopKUlHjhy55JysrCy5XC6fLTAw8LIWDQAAGg+/YmTr1q2aMmWK3nnnHeXk5Oj8+fMaPny4KioqLjkvJCRExcXF3u3EiROXtWgAANB4XOfP4I0bN/o8zsrKUtu2bbV3714NGzas2nkul0vh4eG1WyEAAGjULuuekbKyMklS69atLznu7Nmz6tixo6KiojRmzBgdOnTokuM9Ho/cbrfPBgAAGqdax0hVVZWmTZumIUOGqGfPntWO69q1q5YuXars7Gy98sorqqqq0uDBg3Xy5Mlq52RkZCg0NNS7RUVF1XaZAADgKudyHMepzcSHH35Yb775pnbs2KH27dvXeN758+fVvXt3jR8/XnPmzLnoGI/HI4/H433sdrsVFRWlsrIyhYSE1Ga51er02Po6fb0r4dO5o6yXAADAD3K73QoNDf3Bz2+/7hn5j9TUVK1bt07btm3zK0QkqVmzZoqJidGxY8eqHRMQEKCAgIDaLA0AADQwfn2ZxnEcpaamas2aNdqyZYs6d+7s9wErKyv1/vvvKyIiwu+5AACg8fHrysiUKVO0fPlyZWdnKzg4WCUlJZKk0NBQtWjRQpKUnJysyMhIZWRkSJKefPJJDRo0SF26dNFXX32lefPm6cSJE5o0aVIdnwoAAGiI/IqRRYsWSZLi4+N99r/00ku6//77JUmFhYVq0uT7Cy5nzpzR5MmTVVJSohtuuEH9+vXTrl271KNHj8tbOQAAaBRqfQPrlVTTG2BqgxtYAQCoHzX9/OZ30wAAAFPECAAAMEWMAAAAU8QIAAAwRYwAAABTxAgAADBFjAAAAFPECAAAMEWMAAAAU8QIAAAwRYwAAABTxAgAADBFjAAAAFPECAAAMEWMAAAAU8QIAAAwRYwAAABTxAgAADBFjAAAAFPECAAAMEWMAAAAU8QIAAAwRYwAAABTxAgAADBFjAAAAFPECAAAMEWMAAAAU8QIAAAwRYwAAABTxAgAADBFjAAAAFPECAAAMEWMAAAAU8QIAAAwRYwAAABTxAgAADBFjAAAAFPECAAAMEWMAAAAU8QIAAAwRYwAAABTxAgAADBFjAAAAFPECAAAMEWMAAAAU8QIAAAwRYwAAABTfsVIRkaG+vfvr+DgYLVt21ZJSUk6cuTID85btWqVunXrpsDAQPXq1UsbNmyo9YIBAEDj4leMbN26VVOmTNE777yjnJwcnT9/XsOHD1dFRUW1c3bt2qXx48crJSVF+fn5SkpKUlJSkg4ePHjZiwcAAA2fy3Ecp7aTP//8c7Vt21Zbt27VsGHDLjpm3Lhxqqio0Lp167z7Bg0apD59+mjx4sU1Oo7b7VZoaKjKysoUEhJS2+VeVKfH1tfp610Jn84dZb0EAAB+UE0/vy/rnpGysjJJUuvWrasdk5eXp4SEBJ99iYmJysvLu5xDAwCARuK62k6sqqrStGnTNGTIEPXs2bPacSUlJQoLC/PZFxYWppKSkmrneDweeTwe72O3213bZQIAgKtcra+MTJkyRQcPHtSKFSvqcj2SvrtRNjQ01LtFRUXV+TEAAMDVoVYxkpqaqnXr1untt99W+/btLzk2PDxcpaWlPvtKS0sVHh5e7Zz09HSVlZV5t6KiotosEwAANAB+xYjjOEpNTdWaNWu0ZcsWde7c+QfnxMbGavPmzT77cnJyFBsbW+2cgIAAhYSE+GwAAKBx8uuekSlTpmj58uXKzs5WcHCw976P0NBQtWjRQpKUnJysyMhIZWRkSJKmTp2quLg4ZWZmatSoUVqxYoX27NmjJUuW1PGpAACAhsivKyOLFi1SWVmZ4uPjFRER4d1WrlzpHVNYWKji4mLv48GDB2v58uVasmSJoqOj9Y9//ENr16695E2vAADg2uHXlZGa/EiS3NzcC/aNHTtWY8eO9edQAADgGsHvpgEAAKaIEQAAYIoYAQAApogRAABgihgBAACmiBEAAGCKGAEAAKaIEQAAYIoYAQAApogRAABgihgBAACmiBEAAGCKGAEAAKaIEQAAYIoYAQAApogRAABgihgBAACmiBEAAGCKGAEAAKaIEQAAYIoYAQAApogRAABgihgBAACmiBEAAGCKGAEAAKaIEQAAYIoYAQAApogRAABgihgBAACmiBEAAGCKGAEAAKaIEQAAYIoYAQAApogRAABgihgBAACmiBEAAGCKGAEAAKaIEQAAYIoYAQAApogRAABgihgBAACmiBEAAGCKGAEAAKaIEQAAYIoYAQAApogRAABgihgBAACmiBEAAGDK7xjZtm2bRo8erXbt2snlcmnt2rWXHJ+bmyuXy3XBVlJSUts1AwCARsTvGKmoqFB0dLQWLlzo17wjR46ouLjYu7Vt29bfQwMAgEboOn8njBw5UiNHjvT7QG3btlWrVq38ngcAABq3K3bPSJ8+fRQREaG7775bO3fuvORYj8cjt9vtswEAgMap3mMkIiJCixcv1urVq7V69WpFRUUpPj5e+/btq3ZORkaGQkNDvVtUVFR9LxMAABhxOY7j1Hqyy6U1a9YoKSnJr3lxcXHq0KGDXn755Ys+7/F45PF4vI/dbreioqJUVlamkJCQ2i73ojo9tr5OX+9K+HTuKOslAADwg9xut0JDQ3/w89vve0bqwoABA7Rjx45qnw8ICFBAQMAVXBEAALBi8nNGCgoKFBERYXFoAABwlfH7ysjZs2d17Ngx7+Pjx4+roKBArVu3VocOHZSenq5Tp05p2bJlkqQFCxaoc+fOuu222/Ttt9/qxRdf1JYtW/TWW2/V3VkAAIAGy+8Y2bNnj+644w7v47S0NEnShAkTlJWVpeLiYhUWFnqfP3funKZPn65Tp06pZcuW6t27t/75z3/6vAYAALh2XdYNrFdKTW+AqQ1uYAUAoH7U9POb300DAABMESMAAMAUMQIAAEwRIwAAwBQxAgAATBEjAADAFDECAABMESMAAMAUMQIAAEwRIwAAwBQxAgAATBEjAADAFDECAABMESMAAMAUMQIAAEwRIwAAwBQxAgAATBEjAADAFDECAABMESMAAMAUMQIAAEwRIwAAwBQxAgAATBEjAADAFDECAABMESMAAMAUMQIAAEwRIwAAwBQxAgAATBEjAADAFDECAABMESMAAMAUMQIAAEwRIwAAwBQxAgAATBEjAADAFDECAABMESMAAMAUMQIAAEwRIwAAwBQxAgAATBEjAADAFDECAABMESMAAMAUMQIAAEwRIwAAwBQxAgAATBEjAADAlN8xsm3bNo0ePVrt2rWTy+XS2rVrf3BObm6u+vbtq4CAAHXp0kVZWVm1WCoAAGiM/I6RiooKRUdHa+HChTUaf/z4cY0aNUp33HGHCgoKNG3aNE2aNEmbNm3ye7EAAKDxuc7fCSNHjtTIkSNrPH7x4sXq3LmzMjMzJUndu3fXjh07NH/+fCUmJvp7eAAA0MjU+z0jeXl5SkhI8NmXmJiovLy8aud4PB653W6fDQAANE5+XxnxV0lJicLCwnz2hYWFye1265tvvlGLFi0umJORkaHZs2fX99IAXCU6Pbbeegl++3TuKOsl4CrFn2f/XZXfTZOenq6ysjLvVlRUZL0kAABQT+r9ykh4eLhKS0t99pWWliokJOSiV0UkKSAgQAEBAfW9NAAAcBWo9ysjsbGx2rx5s8++nJwcxcbG1vehAQBAA+B3jJw9e1YFBQUqKCiQ9N237hYUFKiwsFDSd19iSU5O9o5/6KGH9Mknn+h3v/udDh8+rOeff16vvfaafvvb39bNGQAAgAbN7xjZs2ePYmJiFBMTI0lKS0tTTEyMZs6cKUkqLi72hokkde7cWevXr1dOTo6io6OVmZmpF198kW/rBQAAkmpxz0h8fLwcx6n2+Yv9dNX4+Hjl5+f7eygAAHANuCq/mwYAAFw7iBEAAGCKGAEAAKaIEQAAYIoYAQAApogRAABgihgBAACmiBEAAGCKGAEAAKaIEQAAYIoYAQAApogRAABgihgBAACmiBEAAGCKGAEAAKaIEQAAYIoYAQAApogRAABgihgBAACmiBEAAGCKGAEAAKaIEQAAYIoYAQAApogRAABgihgBAACmiBEAAGCKGAEAAKaIEQAAYIoYAQAApogRAABgihgBAACmiBEAAGCKGAEAAKaIEQAAYIoYAQAApogRAABgihgBAACmiBEAAGCKGAEAAKaIEQAAYIoYAQAApogRAABgihgBAACmiBEAAGCKGAEAAKaIEQAAYIoYAQAApmoVIwsXLlSnTp0UGBiogQMHavfu3dWOzcrKksvl8tkCAwNrvWAAANC4+B0jK1euVFpammbNmqV9+/YpOjpaiYmJOn36dLVzQkJCVFxc7N1OnDhxWYsGAACNh98x8uyzz2ry5MmaOHGievToocWLF6tly5ZaunRptXNcLpfCw8O9W1hY2GUtGgAANB5+xci5c+e0d+9eJSQkfP8CTZooISFBeXl51c47e/asOnbsqKioKI0ZM0aHDh2q/YoBAECj4leMfPHFF6qsrLzgykZYWJhKSkouOqdr165aunSpsrOz9corr6iqqkqDBw/WyZMnqz2Ox+OR2+322QAAQONU799NExsbq+TkZPXp00dxcXF6/fXX9aMf/UgvvPBCtXMyMjIUGhrq3aKioup7mQAAwIhfMdKmTRs1bdpUpaWlPvtLS0sVHh5eo9do1qyZYmJidOzYsWrHpKenq6yszLsVFRX5s0wAANCA+BUjzZs3V79+/bR582bvvqqqKm3evFmxsbE1eo3Kykq9//77ioiIqHZMQECAQkJCfDYAANA4XefvhLS0NE2YMEG33367BgwYoAULFqiiokITJ06UJCUnJysyMlIZGRmSpCeffFKDBg1Sly5d9NVXX2nevHk6ceKEJk2aVLdnAgAAGiS/Y2TcuHH6/PPPNXPmTJWUlKhPnz7auHGj96bWwsJCNWny/QWXM2fOaPLkySopKdENN9ygfv36adeuXerRo0fdnQUAAGiw/I4RSUpNTVVqaupFn8vNzfV5PH/+fM2fP782hwEAANcAfjcNAAAwRYwAAABTxAgAADBFjAAAAFPECAAAMEWMAAAAU8QIAAAwRYwAAABTxAgAADBFjAAAAFPECAAAMEWMAAAAU8QIAAAwRYwAAABTxAgAADBFjAAAAFPECAAAMEWMAAAAU8QIAAAwRYwAAABTxAgAADBFjAAAAFPECAAAMEWMAAAAU8QIAAAwRYwAAABTxAgAADBFjAAAAFPECAAAMEWMAAAAU8QIAAAwRYwAAABTxAgAADBFjAAAAFPECAAAMEWMAAAAU8QIAAAwRYwAAABTxAgAADBFjAAAAFPECAAAMEWMAAAAU8QIAAAwRYwAAABTxAgAADBFjAAAAFPECAAAMEWMAAAAU7WKkYULF6pTp04KDAzUwIEDtXv37kuOX7Vqlbp166bAwED16tVLGzZsqNViAQBA4+N3jKxcuVJpaWmaNWuW9u3bp+joaCUmJur06dMXHb9r1y6NHz9eKSkpys/PV1JSkpKSknTw4MHLXjwAAGj4/I6RZ599VpMnT9bEiRPVo0cPLV68WC1bttTSpUsvOv65557TiBEjNGPGDHXv3l1z5sxR37599Ze//OWyFw8AABq+6/wZfO7cOe3du1fp6enefU2aNFFCQoLy8vIuOicvL09paWk++xITE7V27dpqj+PxeOTxeLyPy8rKJElut9uf5dZIlefrOn/N+lYf/x8AS7wP0Zjw5/nC13Uc55Lj/IqRL774QpWVlQoLC/PZHxYWpsOHD190TklJyUXHl5SUVHucjIwMzZ49+4L9UVFR/iy30QpdYL0CALwP0ZjU95/n8vJyhYaGVvu8XzFypaSnp/tcTamqqtKXX36pG2+8US6Xq86O43a7FRUVpaKiIoWEhNTZ6wKoOd6HgK36fA86jqPy8nK1a9fukuP8ipE2bdqoadOmKi0t9dlfWlqq8PDwi84JDw/3a7wkBQQEKCAgwGdfq1at/FmqX0JCQvhLEDDG+xCwVV/vwUtdEfkPv25gbd68ufr166fNmzd791VVVWnz5s2KjY296JzY2Fif8ZKUk5NT7XgAAHBt8fvLNGlpaZowYYJuv/12DRgwQAsWLFBFRYUmTpwoSUpOTlZkZKQyMjIkSVOnTlVcXJwyMzM1atQorVixQnv27NGSJUvq9kwAAECD5HeMjBs3Tp9//rlmzpypkpIS9enTRxs3bvTepFpYWKgmTb6/4DJ48GAtX75cTzzxhB5//HHdcsstWrt2rXr27Fl3Z1FLAQEBmjVr1gVfEgJw5fA+BGxdDe9Bl/ND328DAABQj/jdNAAAwBQxAgAATBEjAADAFDHyA+Lj4zVt2jTrZQCNhsvl8v46iE8//VQul0sFBQWmawJgixgBAACmrpkYOXfunPUSAAAwdbV+FjbaGImPj1dqaqqmTZumNm3aKDExUQcPHtTIkSMVFBSksLAw3Xffffriiy+8cyoqKpScnKygoCBFREQoMzPT8AyAq8+yZct04403+vxWbUlKSkrSfffdJ0nKzs5W3759FRgYqJtuukmzZ8/Wv//97xofY+vWrRowYIACAgIUERGhxx57zDt/3bp1atWqlSorKyVJBQUFcrlceuyxx7zzJ02apF/+8peXe6pAg1BeXq57771X119/vSIiIjR//nyf2ws6deqkOXPmKDk5WSEhIXrwwQclSTt27NDQoUPVokULRUVF6ZFHHlFFRYX3dT0ejx599FFFRkbq+uuv18CBA5Wbm+t9PisrS61atdKmTZvUvXt3BQUFacSIESouLq7VeTTaGJGkv//972revLl27typuXPn6s4771RMTIz27NmjjRs3qrS0VD//+c+942fMmKGtW7cqOztbb731lnJzc7Vv3z7DMwCuLmPHjlVlZaXeeOMN777Tp09r/fr1euCBB7R9+3YlJydr6tSp+uCDD/TCCy8oKytLTz31VI1e/9SpU/rJT36i/v37a//+/Vq0aJH+9re/6Y9//KMkaejQoSovL1d+fr6k78KlTZs2Pn9Jbt26VfHx8XV2zsDVLC0tTTt37tQbb7yhnJwcbd++/YLPrWeeeUbR0dHKz8/XH/7wB3388ccaMWKE7rnnHh04cEArV67Ujh07lJqa6p2TmpqqvLw8rVixQgcOHNDYsWM1YsQIffTRR94xX3/9tZ555hm9/PLL2rZtmwoLC/Xoo4/W7kScRiouLs6JiYnxPp4zZ44zfPhwnzFFRUWOJOfIkSNOeXm507x5c+e1117zPv+vf/3LadGihTN16tQrtWzgqvfwww87I0eO9D7OzMx0brrpJqeqqsq56667nD/96U8+419++WUnIiLC+1iSs2bNGsdxHOf48eOOJCc/P99xHMd5/PHHna5duzpVVVXe8QsXLnSCgoKcyspKx3Ecp2/fvs68efMcx3GcpKQk56mnnnKaN2/ulJeXOydPnnQkOUePHq2PUweuKm6322nWrJmzatUq776vvvrKadmypfdzq2PHjk5SUpLPvJSUFOfBBx/02bd9+3anSZMmzjfffOOcOHHCadq0qXPq1CmfMXfddZeTnp7uOI7jvPTSS44k59ixY97nFy5c6ISFhdXqXPz+cfANSb9+/bz/vX//fr399tsKCgq6YNzHH3+sb775RufOndPAgQO9+1u3bq2uXbtekbUCDcXkyZPVv39/nTp1SpGRkcrKytL9998vl8ul/fv3a+fOnT5XQiorK/Xtt9/q66+/VsuWLS/52h9++KFiY2Plcrm8+4YMGaKzZ8/q5MmT6tChg+Li4pSbm6vp06dr+/btysjI0GuvvaYdO3boyy+/VLt27XTLLbfU2/kDV4tPPvlE58+f14ABA7z7QkNDL/jcuv32230e79+/XwcOHNCrr77q3ec4jqqqqnT8+HF98sknqqys1K233uozz+Px6MYbb/Q+btmypW6++Wbv44iICJ0+fbpW59KoY+T666/3/vfZs2c1evRoPf300xeMi4iI0LFjx67k0oAGKyYmRtHR0Vq2bJmGDx+uQ4cOaf369ZK+e5/Nnj1bP/vZzy6YFxgYWCfHj4+P19KlS7V//341a9ZM3bp1U3x8vHJzc3XmzBnFxcXVyXGAxuK/Pwul796nv/rVr/TII49cMLZDhw46cOCAmjZtqr1796pp06Y+z//3P+ibNWvm85zL5ZJTy98w06hj5L/17dtXq1evVqdOnXTddRee9s0336xmzZrp3XffVYcOHSRJZ86c0dGjR/nLDfgfkyZN0oIFC3Tq1CklJCQoKipK0nfvsyNHjqhLly61et3u3btr9erVchzHe3Vk586dCg4OVvv27SV9f9/I/Pnzve/N+Ph4zZ07V2fOnNH06dPr4AyBq99NN92kZs2a6b333vN+bpWVleno0aMaNmxYtfP69u2rDz74oNr3aUxMjCorK3X69GkNHTq0Xtb+vxr1Daz/bcqUKfryyy81fvx4vffee/r444+1adMmTZw4UZWVlQoKClJKSopmzJihLVu26ODBg7r//vt9fgMxgO/84he/0MmTJ/XXv/5VDzzwgHf/zJkztWzZMs2ePVuHDh3Shx9+qBUrVuiJJ56o0ev++te/VlFRkX7zm9/o8OHDys7O1qxZs5SWluZ9L95www3q3bu3Xn31Ve+NqsOGDdO+ffv4xwOuKcHBwZowYYJmzJiht99+W4cOHVJKSoqaNGni86XO//X73/9eu3btUmpqqgoKCvTRRx8pOzvbewPrrbfeqnvvvVfJycl6/fXXdfz4ce3evVsZGRneq6B17Zr5pG3Xrp127typyspKDR8+XL169dK0adPUqlUr719y8+bN09ChQzV69GglJCToxz/+sc99JwC+ExoaqnvuuUdBQUFKSkry7k9MTNS6dev01ltvqX///ho0aJDmz5+vjh071uh1IyMjtWHDBu3evVvR0dF66KGHlJKSckHMxMXFqbKy0hsjrVu3Vo8ePRQeHs59XrimPPvss4qNjdVPf/pTJSQkaMiQIerevfslvyzau3dvbd26VUePHtXQoUMVExOjmTNnql27dt4xL730kpKTkzV9+nR17dpVSUlJPldg6prLqe0XeABc0+666y7ddttt+vOf/2y9FAD/r6KiQpGRkcrMzFRKSor1cmrsmrlnBEDdOHPmjHJzc5Wbm6vnn3/eejnANS0/P1+HDx/WgAEDVFZWpieffFKSNGbMGOOV+YcYAeCXmJgYnTlzRk8//TRfEgGuAs8884yOHDmi5s2bq1+/ftq+fbvatGljvSy/8GUaAABg6pq5gRUAAFydiBEAAGCKGAEAAKaIEQAAYIoYAQAApogRAABgihgBAACmiBEAAGCKGAEAAKb+DwAeRdoQruq6AAAAAElFTkSuQmCC",
>>>>>>> Stashed changes
      "text/plain": [
       "<Figure size 640x480 with 1 Axes>"
      ]
     },
     "metadata": {},
     "output_type": "display_data"
    }
   ],
   "source": [
    "# This creates a histogram with the \"list_colors\"\n",
    "plt.hist(x= list_colors)"
   ]
  },
  {
   "cell_type": "code",
   "execution_count": 40,
   "metadata": {},
   "outputs": [],
   "source": [
    "# Creat a list with repeated string values\n",
    "# Compute your own histogram\n",
    "\n"
   ]
  },
  {
   "attachments": {},
   "cell_type": "markdown",
   "metadata": {},
   "source": [
    "<font size=\"5\"> \n",
    "\n",
    "A histogram for continuous data"
   ]
  },
  {
   "cell_type": "code",
<<<<<<< Updated upstream
   "execution_count": 41,
=======
   "execution_count": 16,
>>>>>>> Stashed changes
   "metadata": {},
   "outputs": [
    {
     "data": {
<<<<<<< Updated upstream
      "image/png": "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",
=======
      "text/plain": [
       "Text(0.5, 1.0, 'a graph that we used for illustration')"
      ]
     },
     "execution_count": 16,
     "metadata": {},
     "output_type": "execute_result"
    },
    {
     "data": {
      "image/png": "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",
>>>>>>> Stashed changes
      "text/plain": [
       "<Figure size 640x480 with 1 Axes>"
      ]
     },
     "metadata": {},
     "output_type": "display_data"
    }
   ],
   "source": [
    "plt.scatter(x = list_numbers, y = list_numbers_sqr)\n",
<<<<<<< Updated upstream
    "plt.xlabel(\"A meaningful name for the X-axis\")\n",
    "plt.ylabel(\"Favourite name for Y-axis\")\n",
    "plt.show()"
=======
    "\n",
    "plt.xlabel(\"List of numbers\")\n",
    "plt.ylabel(\"List of numbers squared\")\n",
    "plt.title(\"a graph that we used for illustration\")\n"
>>>>>>> Stashed changes
   ]
  },
  {
   "cell_type": "code",
   "execution_count": 42,
   "metadata": {},
   "outputs": [],
   "source": [
    "# Create a list with numbers, then create your own scatter plot\n",
    "\n",
    "\n"
   ]
  },
  {
   "attachments": {},
   "cell_type": "markdown",
   "metadata": {},
   "source": [
    "# <span style=\"color:darkblue\"> Additional Resources </span>\n",
    "\n",
    "<font size=\"5\"> \n",
    "\n",
    "Check out additional examples at:\n",
    "\n",
    "- https://allendowney.github.io/ElementsOfDataScience/01_variables.html\n",
    "- https://allendowney.github.io/ElementsOfDataScience/03_arrays.html\n",
    "\n"
   ]
  },
  {
   "attachments": {},
   "cell_type": "markdown",
   "metadata": {},
   "source": [
    "# <span style=\"color:darkblue\"> (Optional) Common Pitfalls </span>\n",
    "\n",
    "<font size=\"5\"> \n",
    "\n",
    "It's very common to enter a command incorrectly\n",
    "- There will be an arrow pointing to the problematic line\n",
    "- Focus on the message following \"NameError\""
   ]
  },
  {
   "attachments": {},
   "cell_type": "markdown",
   "metadata": {},
   "source": [
    "<font size=\"5\"> \n",
    "\n",
    "Pro Tip:\n",
    "- Type in google the message for \"NameError\" plus the word Python\n",
    "- Somebody may have a solution/explanation!"
   ]
  },
  {
   "attachments": {},
   "cell_type": "markdown",
   "metadata": {},
   "source": [
    "<font size=\"5\"> \n",
    "\n",
    "Example 1: Not including quotations"
   ]
  },
  {
   "cell_type": "code",
   "execution_count": 44,
   "metadata": {},
   "outputs": [
    {
     "ename": "NameError",
     "evalue": "name 'hello' is not defined",
     "output_type": "error",
     "traceback": [
      "\u001b[0;31m---------------------------------------------------------------------------\u001b[0m",
      "\u001b[0;31mNameError\u001b[0m                                 Traceback (most recent call last)",
      "Cell \u001b[0;32mIn[44], line 3\u001b[0m\n\u001b[1;32m      1\u001b[0m \u001b[39m# When you don't include quotation marks,\u001b[39;00m\n\u001b[1;32m      2\u001b[0m \u001b[39m# Python will try to search for a variable called Hello\u001b[39;00m\n\u001b[0;32m----> 3\u001b[0m \u001b[39mtype\u001b[39m(hello)\n",
      "\u001b[0;31mNameError\u001b[0m: name 'hello' is not defined"
     ]
    }
   ],
   "source": [
    "# When you don't include quotation marks,\n",
    "# Python will try to search for a variable called Hello\n",
    "type(hello)"
   ]
  },
  {
   "cell_type": "code",
   "execution_count": 45,
   "metadata": {},
   "outputs": [
    {
     "data": {
      "text/plain": [
       "str"
      ]
     },
     "execution_count": 45,
     "metadata": {},
     "output_type": "execute_result"
    }
   ],
   "source": [
    "# This commands works if we already defined a variable, e.g.\n",
    "type(message_hello)"
   ]
  },
  {
   "attachments": {},
   "cell_type": "markdown",
   "metadata": {},
   "source": [
    "<font size=\"5\"> \n",
    "\n",
    "Examples 2: Operations with mixed types don't work"
   ]
  },
  {
   "cell_type": "code",
   "execution_count": 46,
   "metadata": {},
   "outputs": [
    {
     "ename": "TypeError",
     "evalue": "can only concatenate str (not \"int\") to str",
     "output_type": "error",
     "traceback": [
      "\u001b[0;31m---------------------------------------------------------------------------\u001b[0m",
      "\u001b[0;31mTypeError\u001b[0m                                 Traceback (most recent call last)",
      "Cell \u001b[0;32mIn[46], line 2\u001b[0m\n\u001b[1;32m      1\u001b[0m \u001b[39m# If you add a number and a string you get a concatenated string\u001b[39;00m\n\u001b[0;32m----> 2\u001b[0m \u001b[39mprint\u001b[39m(\u001b[39m\"\u001b[39;49m\u001b[39mhola\u001b[39;49m\u001b[39m\"\u001b[39;49m \u001b[39m+\u001b[39;49m number3)\n",
      "\u001b[0;31mTypeError\u001b[0m: can only concatenate str (not \"int\") to str"
     ]
    }
   ],
   "source": [
    "# If you add a number and a string you get a concatenated string\n",
    "print(\"hola\" + number3)"
   ]
  },
  {
   "cell_type": "code",
   "execution_count": 47,
   "metadata": {},
   "outputs": [
    {
     "name": "stdout",
     "output_type": "stream",
     "text": [
      "hola3\n"
     ]
    }
   ],
   "source": [
    "# You can convert an integer to string first\n",
    "print(\"hola\" + str(number3))"
   ]
  },
  {
   "attachments": {},
   "cell_type": "markdown",
   "metadata": {},
   "source": [
    "<font size=\"5\"> \n",
    "\n",
    "Examples 3: Not all mathematical operations on numeric lists work\n",
    "\n",
    "- We need a different object: arrays!\n",
    "- We'll look into this in future classes"
   ]
  },
  {
   "cell_type": "code",
   "execution_count": 63,
   "metadata": {},
   "outputs": [
    {
     "ename": "TypeError",
     "evalue": "unsupported operand type(s) for /: 'list' and 'int'",
     "output_type": "error",
     "traceback": [
      "\u001b[0;31m---------------------------------------------------------------------------\u001b[0m",
      "\u001b[0;31mTypeError\u001b[0m                                 Traceback (most recent call last)",
      "Cell \u001b[0;32mIn[63], line 1\u001b[0m\n\u001b[0;32m----> 1\u001b[0m list_numbers \u001b[39m/\u001b[39;49m \u001b[39m2\u001b[39;49m\n",
      "\u001b[0;31mTypeError\u001b[0m: unsupported operand type(s) for /: 'list' and 'int'"
     ]
    }
   ],
   "source": [
    "list_numbers / 2"
   ]
  }
 ],
 "metadata": {
  "kernelspec": {
   "display_name": "Python 3",
   "language": "python",
   "name": "python3"
  },
  "language_info": {
   "codemirror_mode": {
    "name": "ipython",
    "version": 3
   },
   "file_extension": ".py",
   "mimetype": "text/x-python",
   "name": "python",
   "nbconvert_exporter": "python",
   "pygments_lexer": "ipython3",
   "version": "3.11.1"
  },
  "orig_nbformat": 4,
  "vscode": {
   "interpreter": {
    "hash": "aee8b7b246df8f9039afb4144a1f6fd8d2ca17a180786b69acc140d282b71a49"
   }
  }
 },
 "nbformat": 4,
 "nbformat_minor": 2
}
